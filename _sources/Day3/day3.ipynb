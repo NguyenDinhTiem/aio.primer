{
 "cells": [
  {
   "cell_type": "markdown",
   "metadata": {},
   "source": [
    "# Day 3: Tạo Biến String và Sử Dụng Các Phương Thức"
   ]
  },
  {
   "cell_type": "markdown",
   "metadata": {},
   "source": [
    "## Bài tập:\n",
    "\n",
    "1. Tạo một biến `name` gán giá trị là tên một người, sau đó hiển thị ra màn hình một thông báo chứa tên đó sử dụng `f-string`. Ví dụ `name = \"Alice\"`, mình sẽ in ra màn hình nội dung là `\"Alice is a great teacher!\"`\n",
    "\n",
    "2. Tạo một biến và gán giá trị `\"ms Taylor\"` cho nó, sau đó thực hiện in ra màn hình giá trị biến đó được viết hoa các từ đầu tiên mỗi chữ hoặc viết toàn bộ bằng chữ chữ hoa, hoặc chữ thường.\n",
    "\n",
    "    Input: \tname = \"ms Taylor\"\n",
    "\n",
    "    Output: \n",
    "\n",
    "        Title case: Ms Taylor \n",
    "\n",
    "        Upper case: MS TAYLOR \n",
    "        \n",
    "        Lower case: ms taylor\n"
   ]
  },
  {
   "cell_type": "markdown",
   "metadata": {},
   "source": [
    "## Hướng dẫn giải"
   ]
  },
  {
   "cell_type": "markdown",
   "metadata": {},
   "source": [
    "Để làm bài tập này, chúng ta sẽ nhắc lại một số kiến thức cơ bản về kiểu dữ liệu String trong Python. String là một tập hợp các ký tự được đặt trong dấu nháy đơn 'string here' hoặc dấu nháy kép \"string here\".\n",
    "\n",
    "Ví dụ: \"Have a nice day!\" hoặc 'You're so beautifull'\n",
    "\n",
    "Và không thể quên những biến đổi đơn giản trong string như:\n",
    "* Sử dụng *title* khi muốn viết hoa những chữ cái đầu tiên của từ trong chuỗi"
   ]
  },
  {
   "cell_type": "code",
   "execution_count": 1,
   "metadata": {},
   "outputs": [
    {
     "name": "stdout",
     "output_type": "stream",
     "text": [
      "Taylor Swift\n"
     ]
    }
   ],
   "source": [
    "# Viêt hoa chữ cái đầu tiên của mỗi từ trong chuỗi\n",
    "name = \"taylor swift\"\n",
    "print(name.title()) "
   ]
  },
  {
   "cell_type": "markdown",
   "metadata": {},
   "source": [
    "* Sử dụng *upper* khi muốn viết hoa toàn bộ các từ trong chuỗi\n"
   ]
  },
  {
   "cell_type": "code",
   "execution_count": 3,
   "metadata": {},
   "outputs": [
    {
     "name": "stdout",
     "output_type": "stream",
     "text": [
      "TAYLOR SWIFT\n"
     ]
    }
   ],
   "source": [
    "# Chuyển chuỗi thành chữ hoa\n",
    "name = \"Taylor Swift\"\n",
    "print(name.upper())"
   ]
  },
  {
   "cell_type": "markdown",
   "metadata": {},
   "source": [
    "* Sử dụng *lower* khi muốn viết thường toàn bộ các từ trong chuỗi"
   ]
  },
  {
   "cell_type": "code",
   "execution_count": 4,
   "metadata": {},
   "outputs": [
    {
     "name": "stdout",
     "output_type": "stream",
     "text": [
      "taylor swift\n"
     ]
    }
   ],
   "source": [
    "# Chuyển chuỗi thành chữ thường\n",
    "name = \"Taylor Swift\"\n",
    "print(name.lower())"
   ]
  },
  {
   "cell_type": "markdown",
   "metadata": {},
   "source": [
    "Ngoài ra, chúng ta cần biết cách chèn biến vào string nữa. Ví dụ chúng ta muốn kết hợp hai biến name và age như ví dụ dưới đây để tạp một lời chào."
   ]
  },
  {
   "cell_type": "code",
   "execution_count": 1,
   "metadata": {},
   "outputs": [
    {
     "name": "stdout",
     "output_type": "stream",
     "text": [
      "Tom học lập trình tạiAI VIETNAM\n"
     ]
    }
   ],
   "source": [
    "student_name = \"Tom\"\n",
    "class_name = \"AI VIETNAM\"\n",
    "message = f\"{student_name} học lập trình tại{class_name}\"\n",
    "print(message)"
   ]
  },
  {
   "cell_type": "markdown",
   "metadata": {},
   "source": [
    "Trong ví dụ trên chúng ta đặt ký tự f trước dấu nháy kép, điều này cho phép chúng ta chèn biến vào trong chuối bằng cách đặt tên biến vào trong dấu ngoặc nhọn {student_name}, {class_name}. Khi thực hiện chương trình, Python sẽ thay thế {student_name}, {class_name} bằng giá trị của biến."
   ]
  },
  {
   "cell_type": "code",
   "execution_count": 6,
   "metadata": {},
   "outputs": [
    {
     "name": "stdout",
     "output_type": "stream",
     "text": [
      "Alice is a great teacher!\n"
     ]
    }
   ],
   "source": [
    "# Câu 1\n",
    "name = \"Alice\"\n",
    "print(f\"{name} is a great teacher!\")"
   ]
  },
  {
   "cell_type": "code",
   "execution_count": 8,
   "metadata": {},
   "outputs": [
    {
     "name": "stdout",
     "output_type": "stream",
     "text": [
      "Title case: Ms Taylor\n",
      "Upper case: MS TAYLOR\n",
      "Lower case: ms taylor\n"
     ]
    }
   ],
   "source": [
    "# Câu 2\n",
    "# Define variables\n",
    "name = \"ms Taylor\"\n",
    "\n",
    "# Title case the name\n",
    "title_name = name.title()\n",
    "\n",
    "# Upper case the name\n",
    "upper_name = name.upper()\n",
    "\n",
    "# Lower case the name\n",
    "lower_name = name.lower()\n",
    "\n",
    "# Print the results\n",
    "print(f\"Title case: {title_name}\")\n",
    "print(f\"Upper case: {upper_name}\")\n",
    "print(f\"Lower case: {lower_name}\")"
   ]
  }
 ],
 "metadata": {
  "kernelspec": {
   "display_name": "aio.primer",
   "language": "python",
   "name": "python3"
  },
  "language_info": {
   "codemirror_mode": {
    "name": "ipython",
    "version": 3
   },
   "file_extension": ".py",
   "mimetype": "text/x-python",
   "name": "python",
   "nbconvert_exporter": "python",
   "pygments_lexer": "ipython3",
   "version": "3.8.18"
  }
 },
 "nbformat": 4,
 "nbformat_minor": 2
}
