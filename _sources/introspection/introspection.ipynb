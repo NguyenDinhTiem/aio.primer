{
 "cells": [
  {
   "cell_type": "markdown",
   "metadata": {},
   "source": [
    "# Introspection trong Python"
   ]
  },
  {
   "cell_type": "markdown",
   "metadata": {},
   "source": [
    "Chắc là chúng ta sẽ bắt đầu bằng câu hỏi kiểu: \n",
    "* Biến này đang dùng có kiểu dữ liệu là gì nhỉ? Số nguyên hay số thực...\n",
    "* Ta cài rất nhiều thư viện nhưng không nhớ hết được các phương thức trong nó, làm thế nào để xem tóm tắt những chức năng mà thư viện cung cấp một cách nhanh chóng?...\n",
    "\n",
    "Trong lập trình Python và hầu hết các ngôn ngữ lập trình khác, Introspection là khả năng cho phép chúng ta kiểm tra, truy vấn thông tin của chương trình trong quá trình thực thi. Tức là khi thực thi chương trình Python, chúng ta có thể kiểm tra kiểu dữ liệu, thuộc tính, phương thức của đối tượng cũng như thông tin về một thư viện, package.\n",
    "\n",
    "Python cung cấp nhiều công cụ hỗ trợ introspection, trong hướng dẫn này chúng ta sẽ tìm hiểu về hai hàm hỗ trợ phổ biến trong Python là `type()` và `help()`."
   ]
  },
  {
   "cell_type": "markdown",
   "metadata": {},
   "source": [
    "## Hàm `type()`\n",
    "\n",
    "Hàm `type()` được sử dụng để kiểm tra kiểu của một đối tượng. Nó trả về kiểu đối tượng giúp bạn biết kiểu dữ liệu của đối tượng bạn đang sử dụng là gì. Điều này có thể hữu ích khi bạn đang xử lý các biến mà bạn không chắc chắn về kiểu dữ liệu của chúng.\n",
    "\n",
    "### Cách sử dụng:\n",
    "```python\n",
    "type(object)\n",
    "```\n",
    "\n",
    "- `object`: Đối tượng mà bạn muốn biết kiểu.\n",
    "\n",
    "### Ví dụ:\n"
   ]
  },
  {
   "cell_type": "code",
   "execution_count": 2,
   "metadata": {},
   "outputs": [
    {
     "name": "stdout",
     "output_type": "stream",
     "text": [
      "<class 'int'>\n"
     ]
    }
   ],
   "source": [
    "x = 5\n",
    "print(type(x))"
   ]
  },
  {
   "cell_type": "markdown",
   "metadata": {},
   "source": [
    "Kết quả sẽ cho biết `x` là một đối tượng có kiểu `int`.\n",
    "\n",
    "## Hàm `help()`\n",
    "\n",
    "Hàm `help()` giúp truy cập vào tài liệu trợ giúp của Python cho các đối tượng, modules, hàm, phương thức, từ khóa. Khi bạn gọi `help()` với một đối tượng cụ thể, Python sẽ trả về tài liệu liên quan đến đối tượng đó.\n",
    "\n",
    "### Cách sử dụng:\n",
    "```python\n",
    "help(object)\n",
    "```\n",
    "\n",
    "- `object`: Đối tượng mà bạn muốn xem tài liệu hướng dẫn.\n",
    "\n",
    "### Ví dụ:\n"
   ]
  },
  {
   "cell_type": "code",
   "execution_count": null,
   "metadata": {},
   "outputs": [],
   "source": [
    "help(str)"
   ]
  },
  {
   "cell_type": "markdown",
   "metadata": {},
   "source": [
    "Kết quả sẽ hiển thị tài liệu hướng dẫn cho lớp `str`, bao gồm các phương thức có sẵn, cách sử dụng, và mô tả chi tiết về chức năng của chúng.\n",
    "\n",
    "Tương tự string, chúng ta có thể xem tài liệu hướng dẫn của thư viện `math` dưới đây."
   ]
  },
  {
   "cell_type": "code",
   "execution_count": null,
   "metadata": {},
   "outputs": [],
   "source": [
    "import math\n",
    "help(math)"
   ]
  },
  {
   "cell_type": "markdown",
   "metadata": {},
   "source": [
    "## Ví dụ với Custom class\n",
    "\n",
    "Giả sử ta đang xây dựng một chương trình Python đơn giản để quản lý danh sách sản phẩm trong một cửa hàng. Ta đã tạo một class Product để đại diện cho các sản phẩm trong cửa hàng. Dưới đây là cách ta thể sử dụng introspection để tìm hiểu các phương thức và thuộc tính của đối tượng Product:"
   ]
  },
  {
   "cell_type": "code",
   "execution_count": 10,
   "metadata": {},
   "outputs": [
    {
     "name": "stdout",
     "output_type": "stream",
     "text": [
      "<class '__main__.Product'>\n",
      "Help on method display_info in module __main__:\n",
      "\n",
      "display_info() method of __main__.Product instance\n",
      "\n"
     ]
    }
   ],
   "source": [
    "class Product:\n",
    "    def __init__(self, name, price):\n",
    "        self.name = name\n",
    "        self.price = price\n",
    "\n",
    "    def display_info(self):\n",
    "        print(f\"Product: {self.name}, Price: ${self.price}\")\n",
    "\n",
    "# Tạo một đối tượng Product\n",
    "product1 = Product(\"Laptop\", 1200)\n",
    "\n",
    "# Sử dụng type() để kiểm tra kiểu dữ liệu của đối tượng\n",
    "print(type(product1))  # Output: <class '__main__.Product'>\n",
    "\n",
    "# Sử dụng help() để hiển thị thông tin trợ giúp về phương thức display_info\n",
    "help(product1.display_info)\n"
   ]
  },
  {
   "cell_type": "markdown",
   "metadata": {},
   "source": [
    "Bạn nên thêm comment vào phương thức để tạo document chi tiết hơn."
   ]
  },
  {
   "cell_type": "code",
   "execution_count": 1,
   "metadata": {},
   "outputs": [
    {
     "name": "stdout",
     "output_type": "stream",
     "text": [
      "<class '__main__.Product'>\n",
      "Help on method display_info in module __main__:\n",
      "\n",
      "display_info() method of __main__.Product instance\n",
      "    Hiển thị thông tin của sản phẩm, bao gồm name và price.\n",
      "\n"
     ]
    }
   ],
   "source": [
    "class Product:\n",
    "    def __init__(self, name, price):\n",
    "        self.name = name\n",
    "        self.price = price\n",
    "\n",
    "    def display_info(self):\n",
    "        \"\"\"\n",
    "        Hiển thị thông tin của sản phẩm, bao gồm name và price.\n",
    "        \"\"\"\n",
    "        print(f\"Product: {self.name}, Price: ${self.price}\")\n",
    "\n",
    "# Tạo một đối tượng Product\n",
    "product2 = Product(\"TV\", 10000)\n",
    "\n",
    "# Sử dụng type() để kiểm tra kiểu dữ liệu của đối tượng\n",
    "print(type(product2))\n",
    "\n",
    "# Sử dụng help() để hiển thị thông tin trợ giúp về phương thức display_info\n",
    "help(product2.display_info)"
   ]
  },
  {
   "cell_type": "markdown",
   "metadata": {},
   "source": [
    "Kết quả của đoạn mã trên sẽ trả về thông tin kiểu dữ liệu của đối tượng `Product` và hiển thị thông tin về phương thức `display_info`. Nó giúp ta hiểu rõ hơn về cách sử dụng và tương tác với các thành phần của đối tượng `Product` trong ứng dụng.\n",
    "\n",
    "\n",
    "## Tổng kết\n",
    "\n",
    "Cả `type()` và `help()` đều là những công cụ hữu ích cho việc introspection trong Python:\n",
    "\n",
    "- `type()` cho phép ta xác định kiểu của đối tượng, giúp hiểu rõ cách thức hoạt động của chúng trong chương trình.\n",
    "- `help()` cung cấp thông tin chi tiết và tài liệu về cách sử dụng các đối tượng, giúp ta tìm hiểu và sử dụng chúng một cách hiệu quả."
   ]
  }
 ],
 "metadata": {
  "kernelspec": {
   "display_name": "aio.primer",
   "language": "python",
   "name": "python3"
  },
  "language_info": {
   "codemirror_mode": {
    "name": "ipython",
    "version": 3
   },
   "file_extension": ".py",
   "mimetype": "text/x-python",
   "name": "python",
   "nbconvert_exporter": "python",
   "pygments_lexer": "ipython3",
   "version": "3.8.18"
  }
 },
 "nbformat": 4,
 "nbformat_minor": 2
}
