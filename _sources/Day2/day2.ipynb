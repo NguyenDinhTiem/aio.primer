{
 "cells": [
  {
   "cell_type": "markdown",
   "metadata": {},
   "source": [
    "# Day 2: Tạo Biến và In Ra Màn Hình, Xử lý Lỗi Cú Pháp"
   ]
  },
  {
   "cell_type": "markdown",
   "metadata": {},
   "source": [
    "## Bài tập\n",
    "\n",
    "Viết chương trình với yêu cầu dưới đây, mỗi yêu cầu bạn sẽ viết nó trong một cell trong file jupyter notebook. \n",
    "\n",
    "1. Bạn hãy tạo file và đặt tên file bất kỳ nhưng theo quy ước về cách đặt tên trong Python là tên viết thường và mỗi từ cách nhau bởi dấu gạch dưới \"`_`\", ví dụ như `simple_message.ipynb`. Sau đó hãy lập trình in câu `\"Hello world!\"` ra màn hình.\n",
    "\n",
    "2. Gán một câu `\"Have a nice day!\"` vào biến `message`. Sau đó sử dụng câu lệnh print để hiển thị biến này ra màn hình.\n",
    "\n",
    "3. Bạn tạo một câu chứa nội dung `\"Let's have Tet holidays!\"` và gán vào biến với tên `1_message`. Sau đó sử dụng câu lệnh print để hiển thị biến này ra màn hình. Nếu kết quả hiển thị thông báo lỗi, hãy xác định lỗi này là gì và sửa như thế nào? Sau đó chạy lại chương trình.\n"
   ]
  },
  {
   "cell_type": "markdown",
   "metadata": {},
   "source": [
    "## Hướng dẫn giải"
   ]
  },
  {
   "cell_type": "markdown",
   "metadata": {},
   "source": [
    "Trong bài tập này bạn sẽ làm quen với câu lệnh hiển thị ra màn hình print, cách tạo biến, đặt tên biến đúng cách trong Python. Biến trong Python là tên được sử dụng để tham chiếu đến một vùng lưu trữ dữ liệu trong bộ nhớ, tên của biến là cách chúng ta đặt cho vùng lưu trữ đó để có thể truy cập và thao tác với dữ liệu trong chương trình của mình. Khi đặt tên biến sẽ có một số quy tắc mà bạn cần chú ý:\n",
    "\n",
    "* Tên biến có thể chứa chữ cái, số, dấu gạch dưới \"_\". Tên biến có thể bắt đầu bằng chữ cái, dấu gạch dưới, nhưng không được là số. Ví dụ: `message_1`, `_massage` nhưng không thể đặt là `1_message`.\n",
    "\n",
    "* Tên biến có thể gồm nhiều từ, nhưng mỗi từ phải được viết liền, không được sử dụng khoảng trắng. Ví dụ `fresh_apple` nhưng không thể đặt là `fresh apple`\n",
    "\n",
    "* Không được đặt tên biến trùng với những từ khóa và tên hàm trong Python. Ví dụ: Không nên đặt tên biến là `list`, `for`, `from`, `if`, `is`, `False`....\n",
    "\n",
    "* Tên biến chỉ cần ngắn thôi nhưng phải rõ ràng, nếu không thì có thể tạo tên dài hơn mà rõ ràng cũng được. Ví dụ: `student_name` với `s_n` thì nên dùng biến tên `student_name` vì khi đọc sẽ hiểu ngay.\n",
    "\n",
    "* Bạn cũng nên cẩn thận khi sử dụng tên biến chứa chữ `l` và `o`, vì nó giống số `1` và `0` nên có thể gây ra nhầm lẫn nếu quan sát không kỹ."
   ]
  },
  {
   "cell_type": "code",
   "execution_count": 5,
   "metadata": {},
   "outputs": [
    {
     "name": "stdout",
     "output_type": "stream",
     "text": [
      "Hello World!\n"
     ]
    }
   ],
   "source": [
    "# Câu 1\n",
    "print(\"Hello World!\")"
   ]
  },
  {
   "cell_type": "code",
   "execution_count": 6,
   "metadata": {},
   "outputs": [
    {
     "name": "stdout",
     "output_type": "stream",
     "text": [
      "Have a nice day!\n"
     ]
    }
   ],
   "source": [
    "# Câu 2\n",
    "message = \"Have a nice day!\"\n",
    "print(message)"
   ]
  },
  {
   "cell_type": "code",
   "execution_count": 7,
   "metadata": {},
   "outputs": [
    {
     "ename": "SyntaxError",
     "evalue": "invalid decimal literal (3892710067.py, line 2)",
     "output_type": "error",
     "traceback": [
      "\u001b[1;36m  Cell \u001b[1;32mIn[7], line 2\u001b[1;36m\u001b[0m\n\u001b[1;33m    1_message = \"Let's have Tet holidays!\"\u001b[0m\n\u001b[1;37m     ^\u001b[0m\n\u001b[1;31mSyntaxError\u001b[0m\u001b[1;31m:\u001b[0m invalid decimal literal\n"
     ]
    }
   ],
   "source": [
    "# Câu 3\n",
    "1_message = \"Let's have Tet holidays!\"\n",
    "print(1_message)\n"
   ]
  },
  {
   "cell_type": "markdown",
   "metadata": {},
   "source": [
    "Đoạn code trên xuất hiện thông báo lỗi cú pháp tạo dòng thứ 2, lỗi này là do chúng ta đã đặt tên biến không đúng quy tắc trong Python. Để sửa lỗi thì chúng ta cần đặt lại tên biến đúng ví dụ như: `message`, `message_1` chẳng hạn. "
   ]
  },
  {
   "cell_type": "code",
   "execution_count": 4,
   "metadata": {},
   "outputs": [
    {
     "name": "stdout",
     "output_type": "stream",
     "text": [
      "Let's have Tet holidays!\n"
     ]
    }
   ],
   "source": [
    "# Câu 3\n",
    "message_1 = \"Let's have Tet holidays!\"\n",
    "print(message_1)\n"
   ]
  }
 ],
 "metadata": {
  "kernelspec": {
   "display_name": "aio.primer",
   "language": "python",
   "name": "python3"
  },
  "language_info": {
   "codemirror_mode": {
    "name": "ipython",
    "version": 3
   },
   "file_extension": ".py",
   "mimetype": "text/x-python",
   "name": "python",
   "nbconvert_exporter": "python",
   "pygments_lexer": "ipython3",
   "version": "3.8.18"
  }
 },
 "nbformat": 4,
 "nbformat_minor": 2
}
