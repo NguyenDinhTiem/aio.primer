{
 "cells": [
  {
   "cell_type": "markdown",
   "metadata": {},
   "source": [
    "# Day 4: Tạo Biến Số và Thực Hiện Các Phép Tính Cơ Bản"
   ]
  },
  {
   "cell_type": "markdown",
   "metadata": {},
   "source": [
    "## Bài tập\n",
    "\n",
    "1. Viết chương trình tính d\n",
    "\n",
    "Viết chương trình thực hiện phép tính cộng, trừ, nhân chia sao cho kết quả mỗi phép tính là 5 và biểu thức tính toán được viết bên trong hàm print. Sau đó in ra màn hình kết quả mỗi phép tính trên từng hàng riêng biệt. \n",
    "\n",
    "Gợi ý: Bạn sẽ viết biểu thức \n",
    "    print(2+3)\n",
    "\n",
    "    Ouput:\n",
    "\n",
    "    5\n",
    "\n",
    "    5\n",
    "\n",
    "    5\n",
    "\n",
    "    5\n",
    "\n",
    "2. "
   ]
  },
  {
   "cell_type": "markdown",
   "metadata": {},
   "source": [
    "## Hướng dẫn giải"
   ]
  },
  {
   "cell_type": "code",
   "execution_count": 18,
   "metadata": {},
   "outputs": [
    {
     "name": "stdout",
     "output_type": "stream",
     "text": [
      "5\n",
      "5\n",
      "5.0\n",
      "5.0\n"
     ]
    }
   ],
   "source": [
    "print(2 + 3)\n",
    "print(9 - 4)\n",
    "print(2 * 2.5)\n",
    "print(10/2)\n"
   ]
  },
  {
   "cell_type": "code",
   "execution_count": 19,
   "metadata": {},
   "outputs": [
    {
     "data": {
      "text/plain": [
       "0.30000000000000004"
      ]
     },
     "execution_count": 19,
     "metadata": {},
     "output_type": "execute_result"
    }
   ],
   "source": [
    "3*0.1"
   ]
  },
  {
   "cell_type": "code",
   "execution_count": null,
   "metadata": {},
   "outputs": [],
   "source": [
    "# Display Conda version with conda –version\n",
    "conda --version \n",
    "# List environments with conda env list\n",
    "conda env list\n",
    "# Create an environment for technology with conda create -n {env}\n",
    "conda create --name my_python_env python=3.8\n",
    "# Activate the environment with conda activate {env}\n",
    "conda activate my_env"
   ]
  }
 ],
 "metadata": {
  "kernelspec": {
   "display_name": "aio.primer",
   "language": "python",
   "name": "python3"
  },
  "language_info": {
   "codemirror_mode": {
    "name": "ipython",
    "version": 3
   },
   "file_extension": ".py",
   "mimetype": "text/x-python",
   "name": "python",
   "nbconvert_exporter": "python",
   "pygments_lexer": "ipython3",
   "version": "3.8.18"
  }
 },
 "nbformat": 4,
 "nbformat_minor": 2
}
