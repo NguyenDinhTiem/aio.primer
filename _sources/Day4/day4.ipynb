{
 "cells": [
  {
   "cell_type": "markdown",
   "metadata": {},
   "source": [
    "# Day 3: Tạo Biến String và Sử Dụng Các Phương Thức"
   ]
  },
  {
   "cell_type": "markdown",
   "metadata": {},
   "source": [
    "## Bài tập\n",
    "\n",
    "1. Tạo một biến name đại diện tên của bạn, và hiển thị ra màn hình một thông báo chứa tên đó. Ví dụ mình tên Tom, mình sẽ in ra màn hình nội dung như \"Tom love fish!\"\n",
    "2. Tạo một biến tham chiếu đến tên của một người, sau đó thực hiện in ra màn hình tên người đó được viết toàn bộ bằng chữ thường, chữ hoa, hoặc chỉ viết hoa từ đầu tiên mỗi chữ."
   ]
  },
  {
   "cell_type": "markdown",
   "metadata": {},
   "source": [
    "## Hướng dẫn giải"
   ]
  },
  {
   "cell_type": "markdown",
   "metadata": {},
   "source": [
    "Để làm bài tập này, chúng ta sẽ nhắc lại một số kiến thức cơ bản về kiểu dữ liệu String trong Python. String là một tập hợp các ký tự được đặt trong dấu nháy đơn 'string here' hoặc dấu nháy kép \"string here\".\n",
    "\n",
    "Ví dụ: \"Have a nice day!\" hoặc 'You're so beautifull'\n",
    "\n",
    "Và không thể quên những biến đổi đơn giản trong string như:\n",
    "* Sử dụng *title* khi muốn viết hoa những chữ cái đầu tiên của từ trong chuỗi"
   ]
  },
  {
   "cell_type": "code",
   "execution_count": 1,
   "metadata": {},
   "outputs": [
    {
     "name": "stdout",
     "output_type": "stream",
     "text": [
      "Taylor Swift\n"
     ]
    }
   ],
   "source": [
    "# Viêt hoa chữ cái đầu tiên của mỗi từ trong chuỗi\n",
    "name = \"taylor swift\"\n",
    "print(name.title()) "
   ]
  },
  {
   "cell_type": "markdown",
   "metadata": {},
   "source": [
    "* Sử dụng *upper* khi muốn viết hoa toàn bộ các từ trong chuỗi\n"
   ]
  },
  {
   "cell_type": "code",
   "execution_count": 3,
   "metadata": {},
   "outputs": [
    {
     "name": "stdout",
     "output_type": "stream",
     "text": [
      "TAYLOR SWIFT\n"
     ]
    }
   ],
   "source": [
    "# Chuyển chuỗi thành chữ hoa\n",
    "name = \"Taylor Swift\"\n",
    "print(name.upper())"
   ]
  },
  {
   "cell_type": "markdown",
   "metadata": {},
   "source": [
    "* Sử dụng *lower* khi muốn viết thường toàn bộ các từ trong chuỗi"
   ]
  },
  {
   "cell_type": "code",
   "execution_count": 4,
   "metadata": {},
   "outputs": [
    {
     "name": "stdout",
     "output_type": "stream",
     "text": [
      "taylor swift\n"
     ]
    }
   ],
   "source": [
    "# Chuyển chuỗi thành chữ thường\n",
    "name = \"Taylor Swift\"\n",
    "print(name.lower())"
   ]
  },
  {
   "cell_type": "markdown",
   "metadata": {},
   "source": [
    "Ngoài ra, chúng ta cần biết cách chèn biến vào string nữa. Ví dụ chúng ta muốn kết hợp hai biến name và age như ví dụ dưới đây để tạp một lời chào."
   ]
  },
  {
   "cell_type": "code",
   "execution_count": 5,
   "metadata": {},
   "outputs": [
    {
     "name": "stdout",
     "output_type": "stream",
     "text": [
      "Hi, My name is Alice and I am 30 years old!\n"
     ]
    }
   ],
   "source": [
    "# Define variables\n",
    "name = \"Alice\"\n",
    "age = 30\n",
    "\n",
    "# Create a personalized greeting message using f-string\n",
    "greeting = f\"Hi, My name is {name} and I am {age} years old!\"\n",
    "\n",
    "# Print personalized greeting\n",
    "print(greeting)\n"
   ]
  },
  {
   "cell_type": "markdown",
   "metadata": {},
   "source": [
    "Trong ví dụ trên chúng ta đặt ksy tự f trước dấu nháy kép, điều này cho phép chúng ta chèn biến vào trong chuối bằng cách đặt tên biến vào trong dấu ngoặc nhọn {name}, {age}. Khi thực hiện chương trình, Python sẽ thay thế {name}, {age} bằng giá trị của biến."
   ]
  },
  {
   "cell_type": "code",
   "execution_count": 6,
   "metadata": {},
   "outputs": [
    {
     "name": "stdout",
     "output_type": "stream",
     "text": [
      "Alice is a great teacher!\n"
     ]
    }
   ],
   "source": [
    "# Câu 1\n",
    "name = \"Alice\"\n",
    "print(f\"{name} is a great teacher!\")\n"
   ]
  },
  {
   "cell_type": "code",
   "execution_count": 9,
   "metadata": {},
   "outputs": [
    {
     "name": "stdout",
     "output_type": "stream",
     "text": [
      "Title case: Alice\n",
      "Upper case: ALICE\n",
      "Lower case: alice\n"
     ]
    }
   ],
   "source": [
    "# Câu 2\n",
    "# Define variables\n",
    "name = \"Alice\"\n",
    "\n",
    "# Title case the name\n",
    "title_name = name.title()\n",
    "\n",
    "# Upper case the name\n",
    "upper_name = name.upper()\n",
    "\n",
    "# Lower case the name\n",
    "lower_name = name.lower()\n",
    "\n",
    "# Print the results\n",
    "print(f\"Title case: {title_name}\")\n",
    "print(f\"Upper case: {upper_name}\")\n",
    "print(f\"Lower case: {lower_name}\")"
   ]
  }
 ],
 "metadata": {
  "kernelspec": {
   "display_name": "aio.primer",
   "language": "python",
   "name": "python3"
  },
  "language_info": {
   "codemirror_mode": {
    "name": "ipython",
    "version": 3
   },
   "file_extension": ".py",
   "mimetype": "text/x-python",
   "name": "python",
   "nbconvert_exporter": "python",
   "pygments_lexer": "ipython3",
   "version": "3.8.18"
  }
 },
 "nbformat": 4,
 "nbformat_minor": 2
}
